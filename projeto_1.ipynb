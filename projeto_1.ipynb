{
 "cells": [
  {
   "cell_type": "code",
   "execution_count": 2,
   "metadata": {},
   "outputs": [],
   "source": [
    "from PIL import Image, ImageOps\n",
    "import matplotlib.pyplot as plt\n",
    "import numpy as np\n",
    "import os\n",
    "\n",
    "# 1. Juntar todas as imagens em uma única\n",
    "def merge_images(image_folder):\n",
    "    images = [Image.open(os.path.join(image_folder, img)) for img in os.listdir(image_folder) if img.endswith(('png', 'jpg', 'jpeg'))]\n",
    "    widths, heights = zip(*(img.size for img in images))\n",
    "    total_width = sum(widths)\n",
    "    max_height = max(heights)\n",
    "    merged_image = Image.new('RGB', (total_width, max_height))\n",
    "    x_offset = 0\n",
    "    for img in images:\n",
    "        merged_image.paste(img, (x_offset, 0))\n",
    "        x_offset += img.width\n",
    "    return merged_image\n",
    "\n",
    "# Caminho da pasta com as imagens\n",
    "image_folder = \"C:/Users/vinicius.silva/Downloads/Inatel/P7/Projeto 1 2025/Projeto 1/\"\n",
    "\n",
    "# Executando as etapas\n",
    "merged_image = merge_images(image_folder)\n",
    "\n",
    "final_image = merged_image.copy()\n",
    "final_image.show()\n"
   ]
  },
  {
   "cell_type": "markdown",
   "metadata": {},
   "source": [
    "Primeiro importamos as bibliotecas necessárias e criamos a função para juntar todas as imagens.\n",
    "\n",
    "A função recebe o caminho das imagens e junta todas em uma só, somando as larguras e pegando a altura da maior imagem."
   ]
  },
  {
   "cell_type": "code",
   "execution_count": 3,
   "metadata": {},
   "outputs": [],
   "source": [
    "# 2. Trocar as cores somente dos pinguins, mantendo as cores do fundo iguais\n",
    "def change_colors(image):\n",
    "    grayscale_image = ImageOps.grayscale(image)\n",
    "    threshold = 200  # Ajuste o valor do threshold conforme necessário\n",
    "    binary_mask = np.array(grayscale_image) < threshold  # Identificar os pinguins\n",
    "    colorized_image = Image.new(\"RGB\", image.size)\n",
    "    colorized_image.paste(image)  # Manter as cores originais do fundo\n",
    "    penguin_layer = ImageOps.colorize(grayscale_image, black=\"blue\", white=\"yellow\")\n",
    "    colorized_image.paste(penguin_layer, mask=Image.fromarray(binary_mask))\n",
    "    return colorized_image\n",
    "\n",
    "colored_image = change_colors(merged_image)\n",
    "\n",
    "final_image = colored_image.copy()\n",
    "final_image.show()"
   ]
  },
  {
   "cell_type": "markdown",
   "metadata": {},
   "source": [
    "Após juntar todas as imagens, criamos a função para mudar as cores dos pinguins de acordo com o threshold das imagens em grayscale."
   ]
  },
  {
   "cell_type": "code",
   "execution_count": 4,
   "metadata": {},
   "outputs": [],
   "source": [
    "# 3. Aplicar o espelhamento\n",
    "def apply_mirroring(image):\n",
    "    return ImageOps.mirror(image)\n",
    "\n",
    "mirrored_image = apply_mirroring(colored_image)\n",
    "\n",
    "final_image = mirrored_image.copy()\n",
    "final_image.show()"
   ]
  },
  {
   "cell_type": "markdown",
   "metadata": {},
   "source": [
    "Da biblioteca PIL, para facilitar, utilizamos a função mirror para espelhar os pinguins"
   ]
  },
  {
   "cell_type": "code",
   "execution_count": 5,
   "metadata": {},
   "outputs": [],
   "source": [
    "# 4. Recortar seu pinguim favorito\n",
    "def crop_favorite_penguin(image, crop_box):\n",
    "    return image.crop(crop_box)\n",
    "\n",
    "# Defina a área de recorte (exemplo: (x1, y1, x2, y2))\n",
    "crop_box = (860, 0, 1680, 1109)\n",
    "favorite_penguin = crop_favorite_penguin(mirrored_image, crop_box)\n",
    "\n",
    "final_image = favorite_penguin.copy()\n",
    "final_image.show()"
   ]
  },
  {
   "cell_type": "markdown",
   "metadata": {},
   "source": [
    "Utilizamos a função crop e fazemos os cálculos da posição do pinguin favorito, então cortamos a imagem a partir dos pixels calculados para termos somente um pinguim"
   ]
  },
  {
   "cell_type": "code",
   "execution_count": 6,
   "metadata": {},
   "outputs": [
    {
     "data": {
      "image/png": "[encoded data removed]",
      "text/plain": [
       "<Figure size 640x480 with 1 Axes>"
      ]
     },
     "metadata": {},
     "output_type": "display_data"
    }
   ],
   "source": [
    "# 5. Análise do histograma e escolha do threshold\n",
    "def analyze_histogram(image):\n",
    "    grayscale_image = image.convert(\"L\")\n",
    "    histogram = grayscale_image.histogram()\n",
    "    plt.figure()\n",
    "    plt.title(\"Histograma\")\n",
    "    plt.xlabel(\"Intensidade\")\n",
    "    plt.ylabel(\"Frequência\")\n",
    "    plt.plot(histogram)\n",
    "    plt.show()\n",
    "\n",
    "\n",
    "threshold = analyze_histogram(favorite_penguin)\n",
    "\n"
   ]
  },
  {
   "cell_type": "markdown",
   "metadata": {},
   "source": [
    "Aqui verificamos com qual intensidade as seguintes frequências aparecem na imagem do pinguim cortado, e verificamos que o threshold para a próxima função deve ser por volta de 150 para que seja feita a mudança da cor do pinguim"
   ]
  },
  {
   "cell_type": "code",
   "execution_count": 7,
   "metadata": {},
   "outputs": [],
   "source": [
    "# 6. Aplicar threshold e pintar pixels abaixo dele\n",
    "def apply_threshold(image, threshold, color):\n",
    "    grayscale_image = image.convert(\"L\")\n",
    "    binary_image = np.array(grayscale_image) < threshold\n",
    "    result_image = Image.new(\"RGB\", image.size, color)\n",
    "    result_image.paste(image, mask=Image.fromarray(~binary_image))\n",
    "    return result_image\n",
    "\n",
    "final_image = apply_threshold(favorite_penguin, 150, (0, 0, 255))  # Pintar pixels abaixo do threshold de vermelho\n",
    "\n",
    "# Exibir a imagem final\n",
    "\n",
    "final_image.show()"
   ]
  }
 ],
 "metadata": {
  "kernelspec": {
   "display_name": "Python 3",
   "language": "python",
   "name": "python3"
  },
  "language_info": {
   "codemirror_mode": {
    "name": "ipython",
    "version": 3
   },
   "file_extension": ".py",
   "mimetype": "text/x-python",
   "name": "python",
   "nbconvert_exporter": "python",
   "pygments_lexer": "ipython3",
   "version": "3.12.9"
  }
 },
 "nbformat": 4,
 "nbformat_minor": 2
}
